{
  "nbformat": 4,
  "nbformat_minor": 0,
  "metadata": {
    "kernelspec": {
      "display_name": "Python 3",
      "language": "python",
      "name": "python3"
    },
    "language_info": {
      "codemirror_mode": {
        "name": "ipython",
        "version": 3
      },
      "file_extension": ".py",
      "mimetype": "text/x-python",
      "name": "python",
      "nbconvert_exporter": "python",
      "pygments_lexer": "ipython3",
      "version": "3.7.1"
    },
    "colab": {
      "name": "Hackerank Posts.ipynb",
      "provenance": [],
      "toc_visible": true
    }
  },
  "cells": [
    {
      "cell_type": "markdown",
      "metadata": {
        "id": "qSumDKsbVeOt",
        "colab_type": "text"
      },
      "source": [
        "# Analysis to determine a Trend in Hacker News \n",
        "\n",
        "\n",
        "A dataset of the posts on hackerank would be analyzed to determine which sort of post recieve more comment. And also, at what time of the day is one likely to recieve the most comment on a post\n",
        "\n"
      ]
    },
    {
      "cell_type": "code",
      "metadata": {
        "id": "yuqsqBD_VeOu",
        "colab_type": "code",
        "outputId": "e4f4af02-1307-4fac-e34e-951c2dd959e3",
        "colab": {}
      },
      "source": [
        "import csv\n",
        "\n",
        "#reading in the csv file and displying the first 5 rows\n",
        "file = open('hacker_news.csv')\n",
        "file_read = csv.reader(file)\n",
        "hn = list(file_read)\n",
        "\n",
        "print(hn[:5])"
      ],
      "execution_count": 0,
      "outputs": [
        {
          "output_type": "stream",
          "text": [
            "[['id', 'title', 'url', 'num_points', 'num_comments', 'author', 'created_at'], ['12224879', 'Interactive Dynamic Video', 'http://www.interactivedynamicvideo.com/', '386', '52', 'ne0phyte', '8/4/2016 11:52'], ['10975351', 'How to Use Open Source and Shut the Fuck Up at the Same Time', 'http://hueniverse.com/2016/01/26/how-to-use-open-source-and-shut-the-fuck-up-at-the-same-time/', '39', '10', 'josep2', '1/26/2016 19:30'], ['11964716', \"Florida DJs May Face Felony for April Fools' Water Joke\", 'http://www.thewire.com/entertainment/2013/04/florida-djs-april-fools-water-joke/63798/', '2', '1', 'vezycash', '6/23/2016 22:20'], ['11919867', 'Technology ventures: From Idea to Enterprise', 'https://www.amazon.com/Technology-Ventures-Enterprise-Thomas-Byers/dp/0073523429', '3', '1', 'hswarna', '6/17/2016 0:01']]\n"
          ],
          "name": "stdout"
        }
      ]
    },
    {
      "cell_type": "code",
      "metadata": {
        "id": "40Xc0mbrVeOz",
        "colab_type": "code",
        "outputId": "8e5f108f-cb5a-4eeb-d041-b05d63cd2670",
        "colab": {}
      },
      "source": [
        "#removing the column headers\n",
        "headers = hn[0]\n",
        "\n",
        "hn = hn[1:]\n",
        "hn[:5]"
      ],
      "execution_count": 0,
      "outputs": [
        {
          "output_type": "execute_result",
          "data": {
            "text/plain": [
              "[['10975351',\n",
              "  'How to Use Open Source and Shut the Fuck Up at the Same Time',\n",
              "  'http://hueniverse.com/2016/01/26/how-to-use-open-source-and-shut-the-fuck-up-at-the-same-time/',\n",
              "  '39',\n",
              "  '10',\n",
              "  'josep2',\n",
              "  '1/26/2016 19:30'],\n",
              " ['11964716',\n",
              "  \"Florida DJs May Face Felony for April Fools' Water Joke\",\n",
              "  'http://www.thewire.com/entertainment/2013/04/florida-djs-april-fools-water-joke/63798/',\n",
              "  '2',\n",
              "  '1',\n",
              "  'vezycash',\n",
              "  '6/23/2016 22:20'],\n",
              " ['11919867',\n",
              "  'Technology ventures: From Idea to Enterprise',\n",
              "  'https://www.amazon.com/Technology-Ventures-Enterprise-Thomas-Byers/dp/0073523429',\n",
              "  '3',\n",
              "  '1',\n",
              "  'hswarna',\n",
              "  '6/17/2016 0:01'],\n",
              " ['10301696',\n",
              "  'Note by Note: The Making of Steinway L1037 (2007)',\n",
              "  'http://www.nytimes.com/2007/11/07/movies/07stein.html?_r=0',\n",
              "  '8',\n",
              "  '2',\n",
              "  'walterbell',\n",
              "  '9/30/2015 4:12'],\n",
              " ['10482257',\n",
              "  'Title II kills investment? Comcast and other ISPs are now spending more',\n",
              "  'http://arstechnica.com/business/2015/10/comcast-and-other-isps-boost-network-investment-despite-net-neutrality/',\n",
              "  '53',\n",
              "  '22',\n",
              "  'Deinos',\n",
              "  '10/31/2015 9:48']]"
            ]
          },
          "metadata": {
            "tags": []
          },
          "execution_count": 7
        }
      ]
    },
    {
      "cell_type": "code",
      "metadata": {
        "id": "5UdAUlH0VeO3",
        "colab_type": "code",
        "outputId": "fa453765-ae67-4a46-a322-845c6ea3bb3d",
        "colab": {}
      },
      "source": [
        "ask_posts = []\n",
        "show_posts = []\n",
        "other_posts = []\n",
        "\n",
        "for row in hn:\n",
        "    title = row[1]\n",
        "    if title.lower().startswith('ask hn'):\n",
        "        ask_posts.append(row)\n",
        "    elif title.lower().startswith('show hn'):\n",
        "        show_posts.append(row)\n",
        "    else:\n",
        "        other_posts.append(row)\n",
        "        \n",
        "print('Ask Posts are: ', len(ask_posts))\n",
        "print('\\n')\n",
        "print('Show Posts are: ', len(show_posts))\n",
        "print('\\n')\n",
        "print('Other Posts are: ', len(other_posts))\n",
        "    "
      ],
      "execution_count": 0,
      "outputs": [
        {
          "output_type": "stream",
          "text": [
            "Ask Posts are:  1744\n",
            "\n",
            "\n",
            "Show Posts are:  1162\n",
            "\n",
            "\n",
            "Other Posts are:  17193\n"
          ],
          "name": "stdout"
        }
      ]
    },
    {
      "cell_type": "markdown",
      "metadata": {
        "id": "LK1JtQm-VeO6",
        "colab_type": "text"
      },
      "source": [
        "\n",
        "In the cell above, the hn dataset was sorted into three lists depending on the string that starts the title parameter. The ask post after the sorting are 1744 in number while the show post are 1162. Other post totaled 17193. \n"
      ]
    },
    {
      "cell_type": "code",
      "metadata": {
        "id": "TCrKdEYlVeO7",
        "colab_type": "code",
        "outputId": "73868c1a-6ee6-49a1-9913-f8dfaf878b4c",
        "colab": {}
      },
      "source": [
        "total_ask_comments = 0\n",
        "total_show_comments = 0\n",
        "\n",
        "def comments(post):\n",
        "    total_comments = 0\n",
        "    for row in post:\n",
        "        total_comments += int(row[4])\n",
        "    return total_comments\n",
        "\n",
        "total_ask_comments = comments(ask_posts)\n",
        "total_show_comments = comments(show_posts)\n",
        "\n",
        "avg_ask_comments = total_ask_comments / len(ask_posts)\n",
        "avg_show_comments = total_show_comments / len(show_posts)\n",
        "\n",
        "print('Average Ask Post is: ', avg_ask_comments)\n",
        "print('\\n')\n",
        "print('Average Show Post is: ', avg_show_comments)"
      ],
      "execution_count": 0,
      "outputs": [
        {
          "output_type": "stream",
          "text": [
            "Average Ask Post is:  14.038417431192661\n",
            "\n",
            "\n",
            "Average Show Post is:  10.31669535283993\n"
          ],
          "name": "stdout"
        }
      ]
    },
    {
      "cell_type": "markdown",
      "metadata": {
        "id": "bVLAZYqsVeO-",
        "colab_type": "text"
      },
      "source": [
        "In the cell above, it was shown that averagely, a post asking a question would recieve more comments under it than a post showing a certain finding on Hackerank. "
      ]
    },
    {
      "cell_type": "code",
      "metadata": {
        "id": "0fklYWhvVeO-",
        "colab_type": "code",
        "colab": {}
      },
      "source": [
        "import datetime as dt\n",
        "\n",
        "result_list = []\n",
        "\n",
        "for row in ask_posts:\n",
        "    result_list.append([row[6], int(row[4])])    \n",
        "\n",
        "counts_by_hour = {}\n",
        "comments_by_hour = {}\n",
        "\n",
        "for row in result_list:\n",
        "    dt_obj = dt.datetime.strptime(row[0], '%m/%d/%Y %H:%M').strftime('%H')\n",
        "    if dt_obj not in counts_by_hour:\n",
        "        counts_by_hour[dt_obj] = 1\n",
        "        comments_by_hour[dt_obj] = row[1]\n",
        "    else:\n",
        "        counts_by_hour[dt_obj] += 1\n",
        "        comments_by_hour[dt_obj] += row[1]"
      ],
      "execution_count": 0,
      "outputs": []
    },
    {
      "cell_type": "markdown",
      "metadata": {
        "id": "eJZlAJNuVePB",
        "colab_type": "text"
      },
      "source": [
        "In the cell above, we created two dictionaries whose key are the hours of post creation. The counts_by_hour dictionary contains the number of post in a particular hour while the comments_by_hour contains the corresponding number of comments."
      ]
    },
    {
      "cell_type": "code",
      "metadata": {
        "id": "kgNUK2EkVePC",
        "colab_type": "code",
        "outputId": "de017ee2-d3b9-4ab8-cf66-a10cc693db32",
        "colab": {}
      },
      "source": [
        "avg_by_hour = []\n",
        "\n",
        "for key in counts_by_hour:\n",
        "    \n",
        "    avg_by_hour.append([key ,comments_by_hour[key] / counts_by_hour[key]])\n",
        "\n",
        "avg_by_hour"
      ],
      "execution_count": 0,
      "outputs": [
        {
          "output_type": "execute_result",
          "data": {
            "text/plain": [
              "[['09', 5.5777777777777775],\n",
              " ['13', 14.741176470588234],\n",
              " ['10', 13.440677966101696],\n",
              " ['14', 13.233644859813085],\n",
              " ['16', 16.796296296296298],\n",
              " ['23', 7.985294117647059],\n",
              " ['12', 9.41095890410959],\n",
              " ['17', 11.46],\n",
              " ['15', 38.5948275862069],\n",
              " ['21', 16.009174311926607],\n",
              " ['20', 21.525],\n",
              " ['02', 23.810344827586206],\n",
              " ['18', 13.20183486238532],\n",
              " ['03', 7.796296296296297],\n",
              " ['05', 10.08695652173913],\n",
              " ['19', 10.8],\n",
              " ['01', 11.383333333333333],\n",
              " ['22', 6.746478873239437],\n",
              " ['08', 10.25],\n",
              " ['04', 7.170212765957447],\n",
              " ['00', 8.127272727272727],\n",
              " ['06', 9.022727272727273],\n",
              " ['07', 7.852941176470588],\n",
              " ['11', 11.051724137931034]]"
            ]
          },
          "metadata": {
            "tags": []
          },
          "execution_count": 43
        }
      ]
    },
    {
      "cell_type": "code",
      "metadata": {
        "id": "h3gbu0-wVePF",
        "colab_type": "code",
        "outputId": "fdf7ecff-b9d0-4eb3-fae3-8402dd3631b9",
        "colab": {}
      },
      "source": [
        "swap_avg_by_hour = []\n",
        "\n",
        "for row in avg_by_hour:\n",
        "    swap_avg_by_hour.append([row[1], row[0]])\n",
        "sorted_swap = sorted(swap_avg_by_hour, reverse=True)\n",
        "\n",
        "print(\"Top 5 Hours for Ask Posts Comments\")\n",
        "for row in sorted_swap[:5]:\n",
        "    dt_obj = dt.datetime.strptime(row[1], '%H').strftime('%H:00')\n",
        "    print('{} : {:.2f} average comments per post'.format(dt_obj, row[0]))"
      ],
      "execution_count": 0,
      "outputs": [
        {
          "output_type": "stream",
          "text": [
            "Top 5 Hours for Ask Posts Comments\n",
            "15:00 : 38.59 average comments per post\n",
            "02:00 : 23.81 average comments per post\n",
            "20:00 : 21.52 average comments per post\n",
            "16:00 : 16.80 average comments per post\n",
            "21:00 : 16.01 average comments per post\n"
          ],
          "name": "stdout"
        }
      ]
    },
    {
      "cell_type": "markdown",
      "metadata": {
        "id": "N_zeBWfMVePI",
        "colab_type": "text"
      },
      "source": [
        "The result above presents the top 5 hour of the day one is likely to receive the most comment on an Ask post on Hackerank. However, the time zone of the dataset is US Eastern time. Therefore, it is evident that to get the most comment on the post, is should be around 15:00 UTC, 2:00 UTC or perhaps 20:00 UTC "
      ]
    }
  ]
}